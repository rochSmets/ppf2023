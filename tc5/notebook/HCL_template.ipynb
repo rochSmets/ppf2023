{
 "cells": [
  {
   "cell_type": "code",
   "execution_count": null,
   "id": "81bf2cce",
   "metadata": {},
   "outputs": [],
   "source": [
    "import numpy as np\n",
    "import matplotlib.pyplot as plt\n",
    "import test_suite as ts\n",
    "import misc as mi\n",
    "import GodunovFirstOrderUpwindScheme as godunov"
   ]
  },
  {
   "cell_type": "code",
   "execution_count": null,
   "id": "7a1daa87",
   "metadata": {},
   "outputs": [],
   "source": [
    "tst = ts.Test1()"
   ]
  },
  {
   "cell_type": "markdown",
   "id": "b56d4679",
   "metadata": {},
   "source": [
    "**Create the `Scheme` class**"
   ]
  },
  {
   "cell_type": "markdown",
   "id": "d3995109",
   "metadata": {},
   "source": [
    "**Instantiate the `Scheme` object for a given test case**"
   ]
  },
  {
   "cell_type": "code",
   "execution_count": null,
   "id": "78131fff",
   "metadata": {},
   "outputs": [],
   "source": [
    "scheme = godunov.Godunov1(tst, form='vanilla')"
   ]
  },
  {
   "cell_type": "markdown",
   "id": "219115de",
   "metadata": {},
   "source": [
    "**Compute the image of `u0` with the scheme**"
   ]
  },
  {
   "cell_type": "code",
   "execution_count": null,
   "id": "30881fef",
   "metadata": {},
   "outputs": [],
   "source": [
    "scheme.compute(scheme.tFinal)"
   ]
  },
  {
   "cell_type": "markdown",
   "id": "c6dfb786",
   "metadata": {},
   "source": [
    "**Plot initial condition in blue line and ilmage with the mysterious scheme in orange bullets**"
   ]
  },
  {
   "cell_type": "code",
   "execution_count": null,
   "id": "c6b82794",
   "metadata": {},
   "outputs": [],
   "source": [
    "plt.plot(scheme.x, scheme.uFinal)\n",
    "plt.plot(scheme.x, scheme.uF, marker = \"o\", markersize=5, linestyle = \"None\")"
   ]
  },
  {
   "cell_type": "code",
   "execution_count": null,
   "id": "b25e5cdd",
   "metadata": {},
   "outputs": [],
   "source": []
  }
 ],
 "metadata": {
  "kernelspec": {
   "display_name": "Python 3 (ipykernel)",
   "language": "python",
   "name": "python3"
  },
  "language_info": {
   "codemirror_mode": {
    "name": "ipython",
    "version": 3
   },
   "file_extension": ".py",
   "mimetype": "text/x-python",
   "name": "python",
   "nbconvert_exporter": "python",
   "pygments_lexer": "ipython3",
   "version": "3.11.4"
  }
 },
 "nbformat": 4,
 "nbformat_minor": 5
}
